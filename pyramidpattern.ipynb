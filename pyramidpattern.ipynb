{
  "nbformat": 4,
  "nbformat_minor": 0,
  "metadata": {
    "colab": {
      "provenance": [],
      "authorship_tag": "ABX9TyMZBHRyNaLv07je0HyRfNC3",
      "include_colab_link": true
    },
    "kernelspec": {
      "name": "python3",
      "display_name": "Python 3"
    },
    "language_info": {
      "name": "python"
    }
  },
  "cells": [
    {
      "cell_type": "markdown",
      "metadata": {
        "id": "view-in-github",
        "colab_type": "text"
      },
      "source": [
        "<a href=\"https://colab.research.google.com/github/priyankadhase/priyankadhase/blob/main/pyramidpattern.ipynb\" target=\"_parent\"><img src=\"https://colab.research.google.com/assets/colab-badge.svg\" alt=\"Open In Colab\"/></a>"
      ]
    },
    {
      "cell_type": "code",
      "execution_count": null,
      "metadata": {
        "colab": {
          "base_uri": "https://localhost:8080/"
        },
        "id": "74S9G82CLHAt",
        "outputId": "eba43d32-e045-4d5e-a252-8a1ed7bbfe37"
      },
      "outputs": [
        {
          "output_type": "stream",
          "name": "stdout",
          "text": [
            "missing 2\n",
            "missing 1\n",
            "unbalanced\n",
            "CPU times: user 51 µs, sys: 1.02 ms, total: 1.07 ms\n",
            "Wall time: 980 µs\n"
          ]
        }
      ],
      "source": [
        "%%time\n",
        "pattern=\"()])\"\n",
        "LP=0\n",
        "RP=0\n",
        "LB=0\n",
        "RB=0\n",
        "LC=0\n",
        "RC=0\n",
        "for i in pattern:\n",
        "    if i==\"(\":\n",
        "        LP+=1\n",
        "    elif i==\")\":\n",
        "        RP+=1\n",
        "    elif i==\"[\":\n",
        "        LB+=1\n",
        "    elif i==\"]\":\n",
        "        RB+=1\n",
        "    elif i==\"{\":\n",
        "        LC+=1\n",
        "    elif i==\"}\":\n",
        "        RC+=1\n",
        "    else:\n",
        "        pass\n",
        "if LP==RP and LB==RB and RC==LC :\n",
        "    print(\"balanced\")\n",
        "else:\n",
        "  if LP!=RP:\n",
        "    print(f'missing {max(LP,RP)}')\n",
        "  if LB!=RB:\n",
        "    print(f'missing {max(LB,RB)}')\n",
        "  if LC!=RC:\n",
        "    print(f'missing {max(LC,RC)}')\n",
        "  print(\"unbalanced\")\n"
      ]
    },
    {
      "cell_type": "code",
      "source": [
        "# prompt: how to return 'LP' or 'RP' instead of number\n",
        "\n",
        "%%time\n",
        "pattern=\"({})])\"\n",
        "LP=0\n",
        "RP=0\n",
        "LB=0\n",
        "RB=0\n",
        "LC=0\n",
        "RC=0\n",
        "for i in pattern:\n",
        "    if i==\"(\":\n",
        "        LP+=1\n",
        "    elif i==\")\":\n",
        "        RP+=1\n",
        "    elif i==\"[\":\n",
        "        LB+=1\n",
        "    elif i==\"]\":\n",
        "        RB+=1\n",
        "    elif i==\"{\":\n",
        "        LC+=1\n",
        "    elif i==\"}\":\n",
        "        RC+=1\n",
        "    else:\n",
        "        pass\n",
        "if LP==RP and LB==RB and RC==LC :\n",
        "    print(\"balanced\")\n",
        "else:\n",
        "  print(\"unbalanced\")\n",
        "\n",
        "  if LP!=RP:\n",
        "    print(f'missing {[\"Left_Parenthisis\",\"Right_Parenthisis\"][LP<RP]}')\n",
        "  if LB!=RB:\n",
        "    print(f'missing {[\"Left Bracket\",\"Right Bracket\"][LB<RB]}')\n",
        "  if LC!=RC:\n",
        "    print(f'missing {[\"Left Curly brackets\",\"Right Curly brackets\"][LC<RC]}')\n"
      ],
      "metadata": {
        "colab": {
          "base_uri": "https://localhost:8080/"
        },
        "id": "hMwZVD5CNkrX",
        "outputId": "f0662ff5-6870-49f8-810b-714995ce06ea"
      },
      "execution_count": null,
      "outputs": [
        {
          "output_type": "stream",
          "name": "stdout",
          "text": [
            "missing Right_Parenthisis\n",
            "missing Right Bracket\n",
            "unbalanced\n",
            "CPU times: user 2.54 ms, sys: 0 ns, total: 2.54 ms\n",
            "Wall time: 2.53 ms\n"
          ]
        }
      ]
    },
    {
      "cell_type": "code",
      "source": [],
      "metadata": {
        "id": "ms9v5OzXVV6F"
      },
      "execution_count": null,
      "outputs": []
    },
    {
      "cell_type": "code",
      "source": [
        "%%time\n",
        "pattern=\"({})]])\"\n",
        "LP=0\n",
        "RP=0\n",
        "LB=0\n",
        "RB=0\n",
        "LC=0\n",
        "RC=0\n",
        "for i in pattern:\n",
        "    if i==\"(\":\n",
        "        LP+=1\n",
        "    elif i==\")\":\n",
        "        RP+=1\n",
        "    elif i==\"[\":\n",
        "        LB+=1\n",
        "    elif i==\"]\":\n",
        "        RB+=1\n",
        "    elif i==\"{\":\n",
        "        LC+=1\n",
        "    elif i==\"}\":\n",
        "        RC+=1\n",
        "    else:\n",
        "        pass\n",
        "if LP==RP and LB==RB and RC==LC :\n",
        "    print(\"balanced\")\n",
        "else:\n",
        "  print(\"unbalanced\")\n",
        "\n",
        "  if LP!=RP:\n",
        "    print(f'missing {[\"Left_Parenthisis\",\"Right_Parenthisis\"][LP<RP]}')\n",
        "  if LB!=RB:\n",
        "    print(f'missing {[\"Left Bracket\",\"Right Bracket\"][LB<RB]}')\n",
        "  if LC!=RC:\n",
        "    print(f'missing {[\"Left Curly brackets\",\"Right Curly brackets\"][LC<RC]}')\n"
      ],
      "metadata": {
        "colab": {
          "base_uri": "https://localhost:8080/"
        },
        "outputId": "d0820f65-df75-4c86-ca53-dced6813ab26",
        "id": "Tu63ykaen952"
      },
      "execution_count": null,
      "outputs": [
        {
          "output_type": "stream",
          "name": "stdout",
          "text": [
            "unbalanced\n",
            "missing Right_Parenthisis\n",
            "missing Right Bracket\n",
            "CPU times: user 188 µs, sys: 0 ns, total: 188 µs\n",
            "Wall time: 162 µs\n"
          ]
        }
      ]
    },
    {
      "cell_type": "code",
      "source": [
        "for i in range(4):\n",
        "  print (i+1)"
      ],
      "metadata": {
        "colab": {
          "base_uri": "https://localhost:8080/"
        },
        "id": "dxvDfalKoA22",
        "outputId": "91522c3d-be76-4f68-8bf6-fc94dcf3a894"
      },
      "execution_count": null,
      "outputs": [
        {
          "output_type": "stream",
          "name": "stdout",
          "text": [
            "1\n",
            "2\n",
            "3\n",
            "4\n"
          ]
        }
      ]
    },
    {
      "cell_type": "code",
      "source": [
        "for i in range (4):\n",
        "  print(i+1)"
      ],
      "metadata": {
        "id": "hzjmSOmzxm2Y",
        "colab": {
          "base_uri": "https://localhost:8080/"
        },
        "outputId": "0324fae5-2162-4fbc-a091-049a908f71fa"
      },
      "execution_count": 30,
      "outputs": [
        {
          "output_type": "stream",
          "name": "stdout",
          "text": [
            "1\n",
            "2\n",
            "3\n",
            "4\n"
          ]
        }
      ]
    },
    {
      "cell_type": "code",
      "source": [
        "for i in  range (4):\n",
        "    print('\\n')\n",
        "    for k in range(4-i,1,-1):\n",
        "      print(end='\\t')\n",
        "    for j in range (2*i+1):\n",
        "\n",
        "        # print('\\t',end='\\t')\n",
        "      print((2*j)+1,end='\\t')\n",
        "\n",
        "    # print(\"\\t\")\n"
      ],
      "metadata": {
        "colab": {
          "base_uri": "https://localhost:8080/"
        },
        "id": "3HfQR-WkNIrY",
        "outputId": "43a6ab59-d944-4984-c007-89095a2e5c30"
      },
      "execution_count": 87,
      "outputs": [
        {
          "output_type": "stream",
          "name": "stdout",
          "text": [
            "\n",
            "\n",
            "\t\t\t1\t\n",
            "\n",
            "\t\t1\t3\t5\t\n",
            "\n",
            "\t1\t3\t5\t7\t9\t\n",
            "\n",
            "1\t3\t5\t7\t9\t11\t13\t"
          ]
        }
      ]
    },
    {
      "cell_type": "code",
      "source": [
        "# prompt: how to generate above pattern in pyramid fashion\n",
        "\n",
        "def print_pyramid(n):\n",
        "  for i in range(n):\n",
        "    for j in range(n-i-1):\n",
        "      print(' ', end='')\n",
        "    for k in range(i+1):\n",
        "      print('*', end='')\n",
        "    for l in range(i):\n",
        "      print('*', end='')\n",
        "    print()\n",
        "\n",
        "print_pyramid(5)\n"
      ],
      "metadata": {
        "colab": {
          "base_uri": "https://localhost:8080/"
        },
        "id": "kDP2IIfjNTNi",
        "outputId": "109d29de-5c55-44da-ef4c-c3c124b94adb"
      },
      "execution_count": 86,
      "outputs": [
        {
          "output_type": "stream",
          "name": "stdout",
          "text": [
            "    *\n",
            "   ***\n",
            "  *****\n",
            " *******\n",
            "*********\n"
          ]
        }
      ]
    }
  ]
}